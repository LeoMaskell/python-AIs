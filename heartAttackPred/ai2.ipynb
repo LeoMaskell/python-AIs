{
 "cells": [
  {
   "cell_type": "markdown",
   "id": "11957955",
   "metadata": {},
   "source": [
    "# ai with pytorch for detecting heart disease in humans"
   ]
  },
  {
   "cell_type": "markdown",
   "id": "f3fd75cb",
   "metadata": {},
   "source": []
  }
 ],
 "metadata": {
  "language_info": {
   "name": "python"
  }
 },
 "nbformat": 4,
 "nbformat_minor": 5
}
